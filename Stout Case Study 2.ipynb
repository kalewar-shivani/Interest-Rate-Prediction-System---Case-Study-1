{
 "cells": [
  {
   "cell_type": "code",
   "execution_count": 1,
   "id": "6986e566",
   "metadata": {},
   "outputs": [],
   "source": [
    "# importing libraries\n",
    "import pandas as pd\n",
    "import numpy as np\n",
    "import matplotlib.pyplot as plt\n",
    "import seaborn as sns\n",
    "import datetime as dt\n",
    "import random\n",
    "\n",
    "# setting maximum visibility of rows and columns\n",
    "pd.set_option('display.max_rows', 500)\n",
    "pd.set_option('display.max_columns', 500)"
   ]
  },
  {
   "cell_type": "code",
   "execution_count": 2,
   "id": "e843b1dc",
   "metadata": {},
   "outputs": [],
   "source": [
    "case = pd.read_csv('casestudy.csv')"
   ]
  },
  {
   "cell_type": "code",
   "execution_count": 3,
   "id": "260f5442",
   "metadata": {},
   "outputs": [
    {
     "data": {
      "text/html": [
       "<div>\n",
       "<style scoped>\n",
       "    .dataframe tbody tr th:only-of-type {\n",
       "        vertical-align: middle;\n",
       "    }\n",
       "\n",
       "    .dataframe tbody tr th {\n",
       "        vertical-align: top;\n",
       "    }\n",
       "\n",
       "    .dataframe thead th {\n",
       "        text-align: right;\n",
       "    }\n",
       "</style>\n",
       "<table border=\"1\" class=\"dataframe\">\n",
       "  <thead>\n",
       "    <tr style=\"text-align: right;\">\n",
       "      <th></th>\n",
       "      <th>Unnamed: 0</th>\n",
       "      <th>customer_email</th>\n",
       "      <th>net_revenue</th>\n",
       "      <th>year</th>\n",
       "    </tr>\n",
       "  </thead>\n",
       "  <tbody>\n",
       "    <tr>\n",
       "      <th>0</th>\n",
       "      <td>0</td>\n",
       "      <td>nhknapwsbx@gmail.com</td>\n",
       "      <td>249.92</td>\n",
       "      <td>2015</td>\n",
       "    </tr>\n",
       "    <tr>\n",
       "      <th>1</th>\n",
       "      <td>1</td>\n",
       "      <td>joiuzbvcpn@gmail.com</td>\n",
       "      <td>87.61</td>\n",
       "      <td>2015</td>\n",
       "    </tr>\n",
       "    <tr>\n",
       "      <th>2</th>\n",
       "      <td>2</td>\n",
       "      <td>ukkjctepxt@gmail.com</td>\n",
       "      <td>168.38</td>\n",
       "      <td>2015</td>\n",
       "    </tr>\n",
       "    <tr>\n",
       "      <th>3</th>\n",
       "      <td>3</td>\n",
       "      <td>gykatilzrt@gmail.com</td>\n",
       "      <td>62.40</td>\n",
       "      <td>2015</td>\n",
       "    </tr>\n",
       "    <tr>\n",
       "      <th>4</th>\n",
       "      <td>4</td>\n",
       "      <td>mmsgsrtxah@gmail.com</td>\n",
       "      <td>43.08</td>\n",
       "      <td>2015</td>\n",
       "    </tr>\n",
       "  </tbody>\n",
       "</table>\n",
       "</div>"
      ],
      "text/plain": [
       "   Unnamed: 0         customer_email  net_revenue  year\n",
       "0           0   nhknapwsbx@gmail.com       249.92  2015\n",
       "1           1   joiuzbvcpn@gmail.com        87.61  2015\n",
       "2           2   ukkjctepxt@gmail.com       168.38  2015\n",
       "3           3   gykatilzrt@gmail.com        62.40  2015\n",
       "4           4   mmsgsrtxah@gmail.com        43.08  2015"
      ]
     },
     "execution_count": 3,
     "metadata": {},
     "output_type": "execute_result"
    }
   ],
   "source": [
    "case.head()"
   ]
  },
  {
   "cell_type": "code",
   "execution_count": 4,
   "id": "8f5ad13d",
   "metadata": {},
   "outputs": [],
   "source": [
    "case.drop('Unnamed: 0', axis=1, inplace=True)"
   ]
  },
  {
   "cell_type": "code",
   "execution_count": 5,
   "id": "c453fd19",
   "metadata": {},
   "outputs": [
    {
     "data": {
      "text/plain": [
       "customer_email     object\n",
       "net_revenue       float64\n",
       "year                int64\n",
       "dtype: object"
      ]
     },
     "execution_count": 5,
     "metadata": {},
     "output_type": "execute_result"
    }
   ],
   "source": [
    "case.dtypes"
   ]
  },
  {
   "cell_type": "code",
   "execution_count": 6,
   "id": "1acff16f",
   "metadata": {},
   "outputs": [
    {
     "data": {
      "text/html": [
       "<div>\n",
       "<style scoped>\n",
       "    .dataframe tbody tr th:only-of-type {\n",
       "        vertical-align: middle;\n",
       "    }\n",
       "\n",
       "    .dataframe tbody tr th {\n",
       "        vertical-align: top;\n",
       "    }\n",
       "\n",
       "    .dataframe thead th {\n",
       "        text-align: right;\n",
       "    }\n",
       "</style>\n",
       "<table border=\"1\" class=\"dataframe\">\n",
       "  <thead>\n",
       "    <tr style=\"text-align: right;\">\n",
       "      <th></th>\n",
       "      <th>net_revenue</th>\n",
       "      <th>year</th>\n",
       "    </tr>\n",
       "  </thead>\n",
       "  <tbody>\n",
       "    <tr>\n",
       "      <th>count</th>\n",
       "      <td>685927.000000</td>\n",
       "      <td>685927.000000</td>\n",
       "    </tr>\n",
       "    <tr>\n",
       "      <th>mean</th>\n",
       "      <td>125.647755</td>\n",
       "      <td>2016.027252</td>\n",
       "    </tr>\n",
       "    <tr>\n",
       "      <th>std</th>\n",
       "      <td>71.854528</td>\n",
       "      <td>0.837203</td>\n",
       "    </tr>\n",
       "    <tr>\n",
       "      <th>min</th>\n",
       "      <td>1.000000</td>\n",
       "      <td>2015.000000</td>\n",
       "    </tr>\n",
       "    <tr>\n",
       "      <th>25%</th>\n",
       "      <td>63.510000</td>\n",
       "      <td>2015.000000</td>\n",
       "    </tr>\n",
       "    <tr>\n",
       "      <th>50%</th>\n",
       "      <td>125.730000</td>\n",
       "      <td>2016.000000</td>\n",
       "    </tr>\n",
       "    <tr>\n",
       "      <th>75%</th>\n",
       "      <td>187.820000</td>\n",
       "      <td>2017.000000</td>\n",
       "    </tr>\n",
       "    <tr>\n",
       "      <th>max</th>\n",
       "      <td>250.000000</td>\n",
       "      <td>2017.000000</td>\n",
       "    </tr>\n",
       "  </tbody>\n",
       "</table>\n",
       "</div>"
      ],
      "text/plain": [
       "         net_revenue           year\n",
       "count  685927.000000  685927.000000\n",
       "mean      125.647755    2016.027252\n",
       "std        71.854528       0.837203\n",
       "min         1.000000    2015.000000\n",
       "25%        63.510000    2015.000000\n",
       "50%       125.730000    2016.000000\n",
       "75%       187.820000    2017.000000\n",
       "max       250.000000    2017.000000"
      ]
     },
     "execution_count": 6,
     "metadata": {},
     "output_type": "execute_result"
    }
   ],
   "source": [
    "case.describe()"
   ]
  },
  {
   "cell_type": "code",
   "execution_count": 7,
   "id": "984f77e4",
   "metadata": {},
   "outputs": [
    {
     "name": "stdout",
     "output_type": "stream",
     "text": [
      "Total revenue for the current year: 31417495.03\n"
     ]
    }
   ],
   "source": [
    "# Q1\n",
    "print('Total revenue for the current year:', \n",
    "      np.round(case.loc[case['year'] == 2017]['net_revenue'].sum(), 2))"
   ]
  },
  {
   "cell_type": "code",
   "execution_count": 8,
   "id": "09a8d681",
   "metadata": {},
   "outputs": [],
   "source": [
    "# sorting year in ascending order\n",
    "case = case.sort_values(by= 'year')"
   ]
  },
  {
   "cell_type": "code",
   "execution_count": 9,
   "id": "6d88a7d3",
   "metadata": {},
   "outputs": [],
   "source": [
    "# creating a new column for new and existing customers\n",
    "case= case.assign(Occurence=np.where(~case['customer_email'].duplicated(),'New','Existing'))"
   ]
  },
  {
   "cell_type": "code",
   "execution_count": 10,
   "id": "dacc2d2f",
   "metadata": {},
   "outputs": [
    {
     "data": {
      "text/plain": [
       "New         604618\n",
       "Existing     81309\n",
       "Name: Occurence, dtype: int64"
      ]
     },
     "execution_count": 10,
     "metadata": {},
     "output_type": "execute_result"
    }
   ],
   "source": [
    "case['Occurence'].value_counts()"
   ]
  },
  {
   "cell_type": "code",
   "execution_count": 11,
   "id": "fe5f26c6",
   "metadata": {},
   "outputs": [
    {
     "name": "stdout",
     "output_type": "stream",
     "text": [
      "New customer revenue for the year 2017: 28676607.64\n",
      "New customer revenue for the year 2016: 18245491.009999998\n"
     ]
    }
   ],
   "source": [
    "# Q2\n",
    "\n",
    "print('New customer revenue for the year 2017:', \n",
    "      case[(case['year'] == 2017) & (case['Occurence'] == 'New')]['net_revenue'].sum())\n",
    "\n",
    "print('New customer revenue for the year 2016:', \n",
    "      case[(case['year'] == 2016) & (case['Occurence'] == 'New')]['net_revenue'].sum())"
   ]
  },
  {
   "cell_type": "code",
   "execution_count": 12,
   "id": "446247a1",
   "metadata": {},
   "outputs": [
    {
     "name": "stdout",
     "output_type": "stream",
     "text": [
      "Existing customer growth for 2017: -4744565.1899999995\n",
      "Existing customer growth for 2016: 7485452.58\n"
     ]
    }
   ],
   "source": [
    "# Q3\n",
    "\n",
    "print('Existing customer growth for 2017:', \n",
    "      case[(case['year'] == 2017) & (case['Occurence'] == 'Existing')]['net_revenue'].sum() - case[(case['year'] == 2016) & (case['Occurence'] == 'Existing')]['net_revenue'].sum())\n",
    "\n",
    "print('Existing customer growth for 2016:', \n",
    "      case[(case['year'] == 2016) & (case['Occurence'] == 'Existing')]['net_revenue'].sum() - case[(case['year'] == 2015) & (case['Occurence'] == 'Existing')]['net_revenue'].sum())"
   ]
  },
  {
   "cell_type": "code",
   "execution_count": 13,
   "id": "3cf8837f",
   "metadata": {},
   "outputs": [
    {
     "name": "stdout",
     "output_type": "stream",
     "text": [
      "Total revenue lost due to attrition: 44541352.81\n"
     ]
    }
   ],
   "source": [
    "# Q4\n",
    "\n",
    "revenue_lost15_16 = case[case['year'] == 2015]['net_revenue'].sum() - case[(case['year'] == 2016) & (case['Occurence'] == 'Existing')]['net_revenue'].sum()\n",
    "revenue_lost16_17 = case[case['year'] == 2016]['net_revenue'].sum() - case[(case['year'] == 2017) & (case['Occurence'] == 'Existing')]['net_revenue'].sum()\n",
    "\n",
    "total_revenue_lost = revenue_lost15_16 + revenue_lost16_17\n",
    "\n",
    "print('Total revenue lost due to attrition:', total_revenue_lost)"
   ]
  },
  {
   "cell_type": "code",
   "execution_count": 14,
   "id": "1f6a8737",
   "metadata": {},
   "outputs": [
    {
     "name": "stdout",
     "output_type": "stream",
     "text": [
      "Existing customer revenue of the current year: 2740887.39\n"
     ]
    }
   ],
   "source": [
    "# Q5\n",
    "print('Existing customer revenue of the current year:', case[(case['year'] == 2017) & \n",
    "                                                             (case['Occurence'] == 'Existing')]['net_revenue'].sum())"
   ]
  },
  {
   "cell_type": "code",
   "execution_count": 15,
   "id": "7dfb777c",
   "metadata": {},
   "outputs": [
    {
     "name": "stdout",
     "output_type": "stream",
     "text": [
      "Existing customer revenue of the prior year: 7485452.58\n"
     ]
    }
   ],
   "source": [
    "# Q6\n",
    "print('Existing customer revenue of the prior year:', case[(case['year'] == 2016) & \n",
    "                                                             (case['Occurence'] == 'Existing')]['net_revenue'].sum())"
   ]
  },
  {
   "cell_type": "code",
   "execution_count": 16,
   "id": "8d62084e",
   "metadata": {},
   "outputs": [
    {
     "name": "stdout",
     "output_type": "stream",
     "text": [
      "Total customers in the current year: 249987\n"
     ]
    }
   ],
   "source": [
    "# Q7\n",
    "print('Total customers in the current year:', case[case['year']==2017].shape[0])"
   ]
  },
  {
   "cell_type": "code",
   "execution_count": 17,
   "id": "2413085c",
   "metadata": {},
   "outputs": [
    {
     "name": "stdout",
     "output_type": "stream",
     "text": [
      "Total customers in the prior year: 204646\n"
     ]
    }
   ],
   "source": [
    "# Q8\n",
    "print('Total customers in the prior year:', case[case['year']==2016].shape[0])"
   ]
  },
  {
   "cell_type": "code",
   "execution_count": 18,
   "id": "6f96701a",
   "metadata": {},
   "outputs": [
    {
     "name": "stdout",
     "output_type": "stream",
     "text": [
      "New customers in the year 2016: 145062\n",
      "New customers in the year 2017: 228262\n"
     ]
    }
   ],
   "source": [
    "# Q9\n",
    "print('New customers in the year 2016:', case[(case['year']== 2016) & (case['Occurence'] == 'New')].shape[0])\n",
    "print('New customers in the year 2017:', case[(case['year']== 2017) & (case['Occurence'] == 'New')].shape[0])"
   ]
  },
  {
   "cell_type": "code",
   "execution_count": 19,
   "id": "a6bb0aac",
   "metadata": {},
   "outputs": [
    {
     "name": "stdout",
     "output_type": "stream",
     "text": [
      "Lost customers in the year 2016: 171710\n",
      "Lost customers in the year 2017: 182921\n"
     ]
    }
   ],
   "source": [
    "# Q10\n",
    "print('Lost customers in the year 2016:', case[case['year'] == 2015].shape[0]-case[(case['year'] == 2016) & \n",
    "                                                                                   (case['Occurence'] == 'Existing')].shape[0])\n",
    "print('Lost customers in the year 2017:', case[case['year'] == 2016].shape[0]-case[(case['year'] == 2017) & \n",
    "                                                                                   (case['Occurence'] == 'Existing')].shape[0])\n"
   ]
  },
  {
   "cell_type": "code",
   "execution_count": 20,
   "id": "facd63c9",
   "metadata": {},
   "outputs": [
    {
     "data": {
      "text/plain": [
       "1    529471\n",
       "2     68985\n",
       "3      6162\n",
       "dtype: int64"
      ]
     },
     "execution_count": 20,
     "metadata": {},
     "output_type": "execute_result"
    }
   ],
   "source": [
    "# Around 88% of the customers have made interactions just once\n",
    "case.groupby('customer_email').size().value_counts()"
   ]
  },
  {
   "cell_type": "code",
   "execution_count": 21,
   "id": "a850e665",
   "metadata": {},
   "outputs": [
    {
     "name": "stderr",
     "output_type": "stream",
     "text": [
      "C:\\Users\\shiva\\anaconda3\\lib\\site-packages\\seaborn\\_decorators.py:36: FutureWarning: Pass the following variable as a keyword arg: x. From version 0.12, the only valid positional argument will be `data`, and passing other arguments without an explicit keyword will result in an error or misinterpretation.\n",
      "  warnings.warn(\n"
     ]
    },
    {
     "data": {
      "text/plain": [
       "<AxesSubplot:xlabel='year', ylabel='count'>"
      ]
     },
     "execution_count": 21,
     "metadata": {},
     "output_type": "execute_result"
    },
    {
     "data": {
      "image/png": "[encoded data removed]",
      "text/plain": [
       "<Figure size 432x288 with 1 Axes>"
      ]
     },
     "metadata": {
      "needs_background": "light"
     },
     "output_type": "display_data"
    }
   ],
   "source": [
    "sns.countplot(case['year'], hue = case['Occurence'])"
   ]
  },
  {
   "cell_type": "markdown",
   "id": "8a1f3918",
   "metadata": {},
   "source": [
    "From the above plot we understand the following:     \n",
    "From the year 2016 to 2017, the number of New customers drastically increased, where as the number of existing customers dropped. This tells us that the company lost many customers in the year 2017, but also gained new customers.   \n",
    "We cannot say anything about the year 2015, as the previous year's data has not been provided."
   ]
  },
  {
   "cell_type": "code",
   "execution_count": 22,
   "id": "e481cf0f",
   "metadata": {},
   "outputs": [
    {
     "data": {
      "text/plain": [
       "1    529471\n",
       "2     68985\n",
       "3      6162\n",
       "dtype: int64"
      ]
     },
     "execution_count": 22,
     "metadata": {},
     "output_type": "execute_result"
    }
   ],
   "source": [
    "df = case.groupby('customer_email').size().value_counts()\n",
    "df"
   ]
  },
  {
   "cell_type": "code",
   "execution_count": 23,
   "id": "3578ba3d",
   "metadata": {},
   "outputs": [
    {
     "data": {
      "text/plain": [
       "Text(0, 0.5, 'Number of customers')"
      ]
     },
     "execution_count": 23,
     "metadata": {},
     "output_type": "execute_result"
    },
    {
     "data": {
      "image/png": "[encoded data removed]",
      "text/plain": [
       "<Figure size 432x288 with 1 Axes>"
      ]
     },
     "metadata": {
      "needs_background": "light"
     },
     "output_type": "display_data"
    }
   ],
   "source": [
    "plt.bar([1,2,3], [df[1], df[2], df[3]])\n",
    "plt.xlabel('Number of transacations')\n",
    "plt.ylabel('Number of customers')"
   ]
  },
  {
   "cell_type": "markdown",
   "id": "aa96eece",
   "metadata": {},
   "source": [
    "From the above plot we understand, the number of repitative transactions performed by the customers.   \n",
    "Around 88% of the customers made transactions only once, this might explain the high churning rate."
   ]
  },
  {
   "cell_type": "code",
   "execution_count": 24,
   "id": "3eeb3ee6",
   "metadata": {},
   "outputs": [
    {
     "name": "stderr",
     "output_type": "stream",
     "text": [
      "C:\\Users\\shiva\\anaconda3\\lib\\site-packages\\seaborn\\_decorators.py:36: FutureWarning: Pass the following variables as keyword args: x, y. From version 0.12, the only valid positional argument will be `data`, and passing other arguments without an explicit keyword will result in an error or misinterpretation.\n",
      "  warnings.warn(\n"
     ]
    },
    {
     "data": {
      "text/plain": [
       "<AxesSubplot:xlabel='year', ylabel='net_revenue'>"
      ]
     },
     "execution_count": 24,
     "metadata": {},
     "output_type": "execute_result"
    },
    {
     "data": {
      "image/png": "[encoded data removed]",
      "text/plain": [
       "<Figure size 432x288 with 1 Axes>"
      ]
     },
     "metadata": {
      "needs_background": "light"
     },
     "output_type": "display_data"
    }
   ],
   "source": [
    "sns.boxplot(case['year'], case['net_revenue'], hue = case['Occurence'])"
   ]
  },
  {
   "cell_type": "markdown",
   "id": "20cd0b76",
   "metadata": {},
   "source": [
    "As it was seen earlier the number of new customers was comparitively very high than the existing customers.   \n",
    "If you see the box-plot, it can be observed that the net revenue of both type of customers (Existing, New) is similar.   \n",
    "This also tells us that the expenditure of the new customers is not as high as the existing customers, assuming as these customers are new to the company enough trust has not been built yet."
   ]
  }
 ],
 "metadata": {
  "kernelspec": {
   "display_name": "Python 3",
   "language": "python",
   "name": "python3"
  },
  "language_info": {
   "codemirror_mode": {
    "name": "ipython",
    "version": 3
   },
   "file_extension": ".py",
   "mimetype": "text/x-python",
   "name": "python",
   "nbconvert_exporter": "python",
   "pygments_lexer": "ipython3",
   "version": "3.8.8"
  }
 },
 "nbformat": 4,
 "nbformat_minor": 5
}
